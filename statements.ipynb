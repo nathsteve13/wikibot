{
  "nbformat": 4,
  "nbformat_minor": 0,
  "metadata": {
    "colab": {
      "provenance": [],
      "authorship_tag": "ABX9TyNe6XUohlkGjM1TL9LbT/Tu",
      "include_colab_link": true
    },
    "kernelspec": {
      "name": "python3",
      "display_name": "Python 3"
    },
    "language_info": {
      "name": "python"
    }
  },
  "cells": [
    {
      "cell_type": "markdown",
      "metadata": {
        "id": "view-in-github",
        "colab_type": "text"
      },
      "source": [
        "<a href=\"https://colab.research.google.com/github/nathsteve13/wikibot/blob/main/statements.ipynb\" target=\"_parent\"><img src=\"https://colab.research.google.com/assets/colab-badge.svg\" alt=\"Open In Colab\"/></a>"
      ]
    },
    {
      "cell_type": "markdown",
      "source": [
        "## Learning Statements"
      ],
      "metadata": {
        "id": "y9QjWhgNN-Ty"
      }
    },
    {
      "cell_type": "code",
      "execution_count": 1,
      "metadata": {
        "colab": {
          "base_uri": "https://localhost:8080/"
        },
        "id": "s0KBXsEoN3HA",
        "outputId": "6c24f43c-4236-4fac-b225-50ac23c6111c"
      },
      "outputs": [
        {
          "output_type": "stream",
          "name": "stdout",
          "text": [
            "hello world\n"
          ]
        }
      ],
      "source": [
        "print(\"hello world\")"
      ]
    },
    {
      "cell_type": "markdown",
      "source": [
        "### Variables"
      ],
      "metadata": {
        "id": "8nsrdtFjOKZD"
      }
    },
    {
      "cell_type": "code",
      "source": [
        "variable = 1"
      ],
      "metadata": {
        "id": "EyAT7XP5ODuF"
      },
      "execution_count": 2,
      "outputs": []
    },
    {
      "cell_type": "code",
      "source": [
        "x = 1"
      ],
      "metadata": {
        "id": "7aD7CU4EONqE"
      },
      "execution_count": 3,
      "outputs": []
    },
    {
      "cell_type": "code",
      "source": [
        "y = 2"
      ],
      "metadata": {
        "id": "reCMhTJoOhr3"
      },
      "execution_count": 4,
      "outputs": []
    },
    {
      "cell_type": "code",
      "source": [
        "x+y"
      ],
      "metadata": {
        "colab": {
          "base_uri": "https://localhost:8080/"
        },
        "id": "31qr9qNGOiQU",
        "outputId": "985f59d0-cb68-4cb5-e00a-3df6d4ae5590"
      },
      "execution_count": 6,
      "outputs": [
        {
          "output_type": "execute_result",
          "data": {
            "text/plain": [
              "3"
            ]
          },
          "metadata": {},
          "execution_count": 6
        }
      ]
    },
    {
      "cell_type": "code",
      "source": [
        "my_list = [1, 2, 3]\n",
        "print(my_list[0])  # Output: 1\n",
        "print(my_list[1])  # Output: 2\n",
        "print(my_list[-1]) # Output: 3\n"
      ],
      "metadata": {
        "colab": {
          "base_uri": "https://localhost:8080/"
        },
        "id": "7TT5leL-OjBi",
        "outputId": "fb874e41-ecb5-4671-e8ae-dc26ed373bd1"
      },
      "execution_count": 7,
      "outputs": [
        {
          "output_type": "stream",
          "name": "stdout",
          "text": [
            "1\n",
            "2\n",
            "3\n"
          ]
        }
      ]
    },
    {
      "cell_type": "code",
      "source": [
        "my_dict = {1: \"one\", 2: \"two\"}\n",
        "print(my_dict.keys())    # dict_keys([1, 2])\n",
        "print(my_dict.values())  # dict_values(['one', 'two'])\n"
      ],
      "metadata": {
        "colab": {
          "base_uri": "https://localhost:8080/"
        },
        "id": "L6FzydjYOxNg",
        "outputId": "a35409e9-fc65-4b32-8725-735e2c4f3060"
      },
      "execution_count": 8,
      "outputs": [
        {
          "output_type": "stream",
          "name": "stdout",
          "text": [
            "dict_keys([1, 2])\n",
            "dict_values(['one', 'two'])\n"
          ]
        }
      ]
    },
    {
      "cell_type": "code",
      "source": [
        "# Looping dictionary\n",
        "for key, value in my_dict.items():\n",
        "    print(f\"This is my key: {key}\")\n",
        "    print(f\"This is my value: {value}\")\n",
        "\n",
        "# Looping list\n",
        "for item in my_list:\n",
        "    print(f\"This is a value in the list: {item}\")\n"
      ],
      "metadata": {
        "colab": {
          "base_uri": "https://localhost:8080/"
        },
        "id": "wO6jeFjbOxnL",
        "outputId": "0bdad939-f862-4275-ed7a-fabcd7933956"
      },
      "execution_count": 9,
      "outputs": [
        {
          "output_type": "stream",
          "name": "stdout",
          "text": [
            "This is my key: 1\n",
            "This is my value: one\n",
            "This is my key: 2\n",
            "This is my value: two\n",
            "This is a value in the list: 1\n",
            "This is a value in the list: 2\n",
            "This is a value in the list: 3\n"
          ]
        }
      ]
    },
    {
      "cell_type": "code",
      "source": [
        "def add(x, y):\n",
        "    return x + y\n",
        "\n",
        "print(add(2, 2))  # Output: 4\n"
      ],
      "metadata": {
        "colab": {
          "base_uri": "https://localhost:8080/"
        },
        "id": "9iWY2JKlOyjw",
        "outputId": "e6ad7a37-02e3-4221-f8c5-f562b88e7561"
      },
      "execution_count": 12,
      "outputs": [
        {
          "output_type": "stream",
          "name": "stdout",
          "text": [
            "4\n"
          ]
        }
      ]
    }
  ]
}